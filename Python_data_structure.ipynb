{
  "nbformat": 4,
  "nbformat_minor": 0,
  "metadata": {
    "colab": {
      "provenance": []
    },
    "kernelspec": {
      "name": "python3",
      "display_name": "Python 3"
    },
    "language_info": {
      "name": "python"
    }
  },
  "cells": [
    {
      "cell_type": "code",
      "execution_count": null,
      "metadata": {
        "id": "F_2V1MVTywTN"
      },
      "outputs": [],
      "source": []
    },
    {
      "cell_type": "markdown",
      "source": [
        "#Python- Data structure\n",
        "\n",
        "Q1. What are data structures, and why are they important?\n",
        "\n",
        "- Data structures are organized ways to store, manage, and retrieve data efficiently. They are essential for building efficient algorithms and software systems, enabling optimal data storage, quick access, and modification of data.\n",
        "\n",
        "Q2. Explain the difference between mutable and immutable data types.\n",
        "\n",
        "- Mutable data types can be changed after creation, while immutable data types cannot be modified. Mutability allows updates to the object, whereas immutability ensures the object remains constant.\n",
        "\n",
        "Q3. What are the main differences between lists and tuples in Python?\n",
        "\n",
        "- Lists are mutable, whereas tuples are immutable. Lists are used for dynamic data, and tuples are preferred for fixed collections. Tuples are faster than lists due to their immutability.\n",
        "\n",
        "Q4. Describe how dictionaries store data.\n",
        "\n",
        "- Dictionaries store data as key-value pairs using a hash table. Each key is unique and maps to a specific value, allowing fast lookups and data retrieval.\n",
        "\n",
        "Q5. Why might you use a set instead of a list in Python?\n",
        "\n",
        "- Sets are used instead of lists when unique elements are required, or when fast membership checks are needed. Sets automatically handle duplicate values and provide efficient operations.\n",
        "\n",
        "Q6. What is a string in Python, and how is it different from a list?\n",
        "\n",
        "- A string is an immutable sequence of characters, while a list is a mutable collection of elements. Strings are used for textual data, whereas lists can hold elements of any data type.\n",
        "\n",
        "Q7. How do tuples ensure data integrity in Python?\n",
        "\n",
        "- Tuples ensure data integrity by being immutable. Once created, their elements cannot be changed, which prevents accidental modifications and ensures consistency.\n",
        "\n",
        "Q8. What is a hash table, and how does it relate to dictionaries in Python?\n",
        "\n",
        "- A hash table is a data structure that maps keys to values using a hash function. Python dictionaries are implemented using hash tables, allowing efficient data storage and retrieval.\n",
        "\n",
        "Q9. Can lists contain different data types in Python?\n",
        "\n",
        "- Yes, lists in Python can contain elements of different data types.\n",
        "\n",
        "Q10. Explain why strings are immutable in Python.\n",
        "\n",
        "- Strings are immutable to ensure data consistency, thread safety, and efficient memory management. This immutability allows for optimized storage and reuse in Python.\n",
        "\n",
        "Q11. What advantages do dictionaries offer over lists for certain tasks?\n",
        "\n",
        "- Dictionaries provide faster lookups, clear associations between keys and values, and efficient handling of sparse data compared to lists.\n",
        "\n",
        "Q12. Describe a scenario where using a tuple would be preferable over a list.\n",
        "\n",
        "- A tuple is preferable when storing fixed, unchangeable data that must remain constant, such as configuration settings or database records.\n",
        "\n",
        "Q13. How do sets handle duplicate values in Python?\n",
        "\n",
        "- Sets automatically remove duplicate values, ensuring that all elements in a set are unique.\n",
        "\n",
        "Q14. How does the “in” keyword work differently for lists and dictionaries?\n",
        "\n",
        "- In lists, the in keyword checks for the presence of a value. In dictionaries, it checks for the presence of a key.\n",
        "\n",
        "Q15. Can you modify the elements of a tuple? Explain why or why not.\n",
        "\n",
        "- No, the elements of a tuple cannot be modified because tuples are immutable. This immutability prevents changes to their content after creation.\n",
        "\n",
        "\n",
        "Q16. What is a nested dictionary, and give an example of its use case.**   \n",
        "- A nested dictionary is a dictionary that contains other dictionaries as values. It is used to represent hierarchical or complex data structures. For instance, a nested dictionary can store information about students where each student has attributes like name, age, and grades.  \n",
        "\n",
        "Example:  \n",
        "A dictionary where `student1` and `student2` are keys, and their values are dictionaries containing details like name and age.  \n",
        "- `{'student1': {'name': 'Alice', 'age': 20}, 'student2': {'name': 'Bob', 'age': 22}}`                                                                               Q17. Describe the time complexity of accessing elements in a dictionary.\n",
        "\n",
        "- The average time complexity of accessing elements in a dictionary is O(1) due to its hash table implementation.\n",
        "\n",
        "Q18. In what situations are lists preferred over dictionaries?\n",
        "\n",
        "- Lists are preferred when the order of elements matters, when key-value associations are not required, or when duplicate values need to be stored.\n",
        "\n",
        "Q19. Why are dictionaries considered unordered, and how does that affect data retrieval?\n",
        "\n",
        "- Dictionaries were historically unordered because they used hash tables for storage. Although modern Python preserves insertion order, data retrieval depends on keys rather than sequence.\n",
        "\n",
        "Q20. Explain the difference between a list and a dictionary in terms of data retrieval.\n",
        "\n",
        "- In lists, elements are retrieved by their index position. In dictionaries, values are accessed using unique keys.\n"
      ],
      "metadata": {
        "id": "h1fj2uV_4pOH"
      }
    },
    {
      "cell_type": "code",
      "source": [
        "#Practical Questions\n",
        "\n",
        "#Write a code to create a string with your name and print it.\n",
        "name = \"Monika\"\n",
        "print(name)\n"
      ],
      "metadata": {
        "colab": {
          "base_uri": "https://localhost:8080/"
        },
        "id": "m27Gsxpm6xMV",
        "outputId": "39c05e74-074a-4a97-9079-d62070b8afee"
      },
      "execution_count": 1,
      "outputs": [
        {
          "output_type": "stream",
          "name": "stdout",
          "text": [
            "Monika\n"
          ]
        }
      ]
    },
    {
      "cell_type": "code",
      "source": [
        "#Write a code to find the length of the string \"Hello World\"\n",
        "string = \"Hello World\"\n",
        "length = len(string)\n",
        "print(length)\n"
      ],
      "metadata": {
        "colab": {
          "base_uri": "https://localhost:8080/"
        },
        "id": "hw4FZdZ-8gHk",
        "outputId": "fa700274-d6d5-4310-ae8c-4dcd9c1f83d0"
      },
      "execution_count": 2,
      "outputs": [
        {
          "output_type": "stream",
          "name": "stdout",
          "text": [
            "11\n"
          ]
        }
      ]
    },
    {
      "cell_type": "code",
      "source": [
        "#Write a code to slice the first 3 characters from the string \"Python Programming\"\n",
        "string = \"Python Programming\"\n",
        "sliced_part = string[:3]\n",
        "print(sliced_part)\n"
      ],
      "metadata": {
        "colab": {
          "base_uri": "https://localhost:8080/"
        },
        "id": "_F2Qnjlr8_JY",
        "outputId": "e3780775-e2c5-4d39-ba63-33473c3dd483"
      },
      "execution_count": 3,
      "outputs": [
        {
          "output_type": "stream",
          "name": "stdout",
          "text": [
            "Pyt\n"
          ]
        }
      ]
    },
    {
      "cell_type": "code",
      "source": [
        "#Write a code to convert the string \"hello\" to uppercase\n",
        "string = \"hello\"\n",
        "uppercase_string = string.upper()\n",
        "print(uppercase_string)\n"
      ],
      "metadata": {
        "colab": {
          "base_uri": "https://localhost:8080/"
        },
        "id": "MZqFENKQ9ZEL",
        "outputId": "bdc09fb6-7e64-4e65-8019-05f835c02bc8"
      },
      "execution_count": 4,
      "outputs": [
        {
          "output_type": "stream",
          "name": "stdout",
          "text": [
            "HELLO\n"
          ]
        }
      ]
    },
    {
      "cell_type": "code",
      "source": [
        "#Write a code to replace the word \"apple\" with \"orange\" in the string \"I like apple\"\n",
        "string = \"I like apple\"\n",
        "modified_string = string.replace(\"apple\", \"orange\")\n",
        "print(modified_string)\n"
      ],
      "metadata": {
        "colab": {
          "base_uri": "https://localhost:8080/"
        },
        "id": "Ii39nf5q9n0z",
        "outputId": "264a1b9a-7543-464b-84cf-afc1a41d37c7"
      },
      "execution_count": 5,
      "outputs": [
        {
          "output_type": "stream",
          "name": "stdout",
          "text": [
            "I like orange\n"
          ]
        }
      ]
    },
    {
      "cell_type": "code",
      "source": [
        "#Write a code to create a list with numbers 1 to 5 and print it\n",
        "numbers = [1, 2, 3, 4, 5]\n",
        "print(numbers)\n"
      ],
      "metadata": {
        "colab": {
          "base_uri": "https://localhost:8080/"
        },
        "id": "xDalIDJl98Ue",
        "outputId": "5d2f8b31-fb42-4e2b-d053-39e745b4a8b0"
      },
      "execution_count": 6,
      "outputs": [
        {
          "output_type": "stream",
          "name": "stdout",
          "text": [
            "[1, 2, 3, 4, 5]\n"
          ]
        }
      ]
    },
    {
      "cell_type": "code",
      "source": [
        "#Write a code to append the number 10 to the list [1, 2, 3, 4]\n",
        "numbers = [1, 2, 3, 4]\n",
        "numbers.append(10)\n",
        "print(numbers)\n"
      ],
      "metadata": {
        "colab": {
          "base_uri": "https://localhost:8080/"
        },
        "id": "mDHQs0ci-Ks5",
        "outputId": "5fffcc93-4731-4ce3-afb5-94fef176bdb4"
      },
      "execution_count": 7,
      "outputs": [
        {
          "output_type": "stream",
          "name": "stdout",
          "text": [
            "[1, 2, 3, 4, 10]\n"
          ]
        }
      ]
    },
    {
      "cell_type": "code",
      "source": [
        "# Write a code to remove the number 3 from the list [1, 2, 3, 4, 5]\n",
        "numbers = [1, 2, 3, 4, 5]\n",
        "numbers.remove(3)\n",
        "print(numbers)\n"
      ],
      "metadata": {
        "colab": {
          "base_uri": "https://localhost:8080/"
        },
        "id": "bRHWK2vo-dB1",
        "outputId": "5f29b381-bfed-4166-b1fd-0968e5e86340"
      },
      "execution_count": 8,
      "outputs": [
        {
          "output_type": "stream",
          "name": "stdout",
          "text": [
            "[1, 2, 4, 5]\n"
          ]
        }
      ]
    },
    {
      "cell_type": "code",
      "source": [
        "# Write a code to access the second element in the list ['a', 'b', 'c', 'd']\n",
        "my_list = ['a', 'b', 'c', 'd']\n",
        "second_element = my_list[1]\n",
        "print(second_element)\n",
        "\n"
      ],
      "metadata": {
        "colab": {
          "base_uri": "https://localhost:8080/"
        },
        "id": "l95uwN7m-wk5",
        "outputId": "45b9a694-91bb-405d-d7d7-c78ff1d64627"
      },
      "execution_count": 9,
      "outputs": [
        {
          "output_type": "stream",
          "name": "stdout",
          "text": [
            "b\n"
          ]
        }
      ]
    },
    {
      "cell_type": "code",
      "source": [
        "#Write a code to reverse the list [10, 20, 30, 40, 50].\n",
        "my_list = [10, 20, 30, 40, 50]\n",
        "my_list.reverse()\n",
        "print(my_list)\n"
      ],
      "metadata": {
        "colab": {
          "base_uri": "https://localhost:8080/"
        },
        "id": "odzkC0dv_Cku",
        "outputId": "354474b6-72ff-4f6e-e43b-7bf696398041"
      },
      "execution_count": 10,
      "outputs": [
        {
          "output_type": "stream",
          "name": "stdout",
          "text": [
            "[50, 40, 30, 20, 10]\n"
          ]
        }
      ]
    },
    {
      "cell_type": "code",
      "source": [
        "#Write a code to create a tuple with the elements 10, 20, 30 and print it.\n",
        "my_tuple = (10, 20, 30)\n",
        "print(my_tuple)\n"
      ],
      "metadata": {
        "colab": {
          "base_uri": "https://localhost:8080/"
        },
        "id": "bsKYrw9M_UMZ",
        "outputId": "4529bbb7-a881-4207-debe-8705345e8294"
      },
      "execution_count": 11,
      "outputs": [
        {
          "output_type": "stream",
          "name": "stdout",
          "text": [
            "(10, 20, 30)\n"
          ]
        }
      ]
    },
    {
      "cell_type": "code",
      "source": [
        "# Write a code to access the first element of the tuple ('apple', 'banana', 'cherry').\n",
        "my_tuple = ('apple', 'banana', 'cherry')\n",
        "first_element = my_tuple[0]\n",
        "print(first_element)\n"
      ],
      "metadata": {
        "colab": {
          "base_uri": "https://localhost:8080/"
        },
        "id": "33xHxlLi_hB3",
        "outputId": "085b6809-0ee9-44f3-ee6e-d8ee3053999b"
      },
      "execution_count": 12,
      "outputs": [
        {
          "output_type": "stream",
          "name": "stdout",
          "text": [
            "apple\n"
          ]
        }
      ]
    },
    {
      "cell_type": "code",
      "source": [
        "# Write a code to count how many times the number 2 appears in the tuple (1, 2, 3, 2, 4, 2).\n",
        "my_tuple = (1, 2, 3, 2, 4, 2)\n",
        "count = my_tuple.count(2)\n",
        "print(count)\n"
      ],
      "metadata": {
        "colab": {
          "base_uri": "https://localhost:8080/"
        },
        "id": "0UjhGzV9_s0H",
        "outputId": "fe9b30f6-c842-4ece-9635-b2de4873b008"
      },
      "execution_count": 13,
      "outputs": [
        {
          "output_type": "stream",
          "name": "stdout",
          "text": [
            "3\n"
          ]
        }
      ]
    },
    {
      "cell_type": "code",
      "source": [
        "# Write a code to find the index of the element \"cat\" in the tuple ('dog', 'cat', 'rabbit').\n",
        "\n",
        "my_tuple = ('dog', 'cat', 'rabbit')\n",
        "index = my_tuple.index('cat')\n",
        "print(index)\n"
      ],
      "metadata": {
        "colab": {
          "base_uri": "https://localhost:8080/"
        },
        "id": "Ra1F6Plb_9vf",
        "outputId": "a6089892-89b0-453c-e564-9fe5dd252972"
      },
      "execution_count": 14,
      "outputs": [
        {
          "output_type": "stream",
          "name": "stdout",
          "text": [
            "1\n"
          ]
        }
      ]
    },
    {
      "cell_type": "code",
      "source": [
        "# Write a code to check if the element \"banana\" is in the tuple ('apple', 'orange', 'banana').\n",
        "my_tuple = ('apple', 'orange', 'banana')\n",
        "if 'banana' in my_tuple:\n",
        "    print(\"banana is in the tuple\")\n",
        "else:\n",
        "    print(\"banana is not in the tuple\")\n",
        "\n"
      ],
      "metadata": {
        "colab": {
          "base_uri": "https://localhost:8080/"
        },
        "id": "1q5ldYx1Au-f",
        "outputId": "9b3cc2e9-f5b7-439f-bc7c-79c4e389b45e"
      },
      "execution_count": 15,
      "outputs": [
        {
          "output_type": "stream",
          "name": "stdout",
          "text": [
            "banana is in the tuple\n"
          ]
        }
      ]
    },
    {
      "cell_type": "code",
      "source": [
        "# Write a code to create a set with the elements 1, 2, 3, 4, 5 and print it\n",
        "my_set = {1, 2, 3, 4, 5}\n",
        "print(my_set)\n"
      ],
      "metadata": {
        "colab": {
          "base_uri": "https://localhost:8080/"
        },
        "id": "bEAPtRNsA82Q",
        "outputId": "02af0e7d-0e5b-46c6-bcb2-e5c428e6fc7c"
      },
      "execution_count": 16,
      "outputs": [
        {
          "output_type": "stream",
          "name": "stdout",
          "text": [
            "{1, 2, 3, 4, 5}\n"
          ]
        }
      ]
    },
    {
      "cell_type": "code",
      "source": [
        "# Write a code to add the element 6 to the set {1, 2, 3, 4}.\n",
        "\n",
        "my_set = {1, 2, 3, 4}\n",
        "my_set.add(6)\n",
        "print(my_set)\n"
      ],
      "metadata": {
        "colab": {
          "base_uri": "https://localhost:8080/"
        },
        "id": "A_p9oKGvBIo2",
        "outputId": "b43e4c96-6fcd-45a5-a655-d2560b9cc91a"
      },
      "execution_count": 17,
      "outputs": [
        {
          "output_type": "stream",
          "name": "stdout",
          "text": [
            "{1, 2, 3, 4, 6}\n"
          ]
        }
      ]
    },
    {
      "cell_type": "code",
      "source": [
        "# Write a code to create a tuple with the elements 10, 20, 30 and print it.\n",
        "my_tuple = (10, 20, 30)\n",
        "print(my_tuple)\n"
      ],
      "metadata": {
        "colab": {
          "base_uri": "https://localhost:8080/"
        },
        "id": "Rl5j36uVBZGD",
        "outputId": "6c6bdb13-890d-4b3b-bc2a-63adfa9ed2f3"
      },
      "execution_count": 18,
      "outputs": [
        {
          "output_type": "stream",
          "name": "stdout",
          "text": [
            "(10, 20, 30)\n"
          ]
        }
      ]
    },
    {
      "cell_type": "code",
      "source": [
        "# Write a code to access the first element of the tuple ('apple', 'banana', 'cherry').\n",
        "my_tuple = ('apple', 'banana', 'cherry')\n",
        "first_element = my_tuple[0]\n",
        "print(first_element)\n"
      ],
      "metadata": {
        "colab": {
          "base_uri": "https://localhost:8080/"
        },
        "id": "8c5_fgmkBkgW",
        "outputId": "76a87670-3943-44ae-c6b7-164342a11e24"
      },
      "execution_count": 19,
      "outputs": [
        {
          "output_type": "stream",
          "name": "stdout",
          "text": [
            "apple\n"
          ]
        }
      ]
    },
    {
      "cell_type": "code",
      "source": [
        "#Write a code to count how many times the number 2 appears in the tuple (1, 2, 3, 2, 4, 2).\n",
        "\n",
        "my_tuple = (1, 2, 3, 2, 4, 2)\n",
        "count = my_tuple.count(2)\n",
        "print(count)\n"
      ],
      "metadata": {
        "colab": {
          "base_uri": "https://localhost:8080/"
        },
        "id": "gFYdQr1wB5wv",
        "outputId": "b23d1e79-5173-46f5-984e-705419dac48c"
      },
      "execution_count": 20,
      "outputs": [
        {
          "output_type": "stream",
          "name": "stdout",
          "text": [
            "3\n"
          ]
        }
      ]
    },
    {
      "cell_type": "code",
      "source": [
        "# Write a code to find the index of the element \"cat\" in the tuple ('dog', 'cat', 'rabbit').\n",
        "my_tuple = ('dog', 'cat', 'rabbit')\n",
        "index = my_tuple.index('cat')\n",
        "print(index)\n"
      ],
      "metadata": {
        "colab": {
          "base_uri": "https://localhost:8080/"
        },
        "id": "oXkoqUhxCI8t",
        "outputId": "ad816c00-5e36-41d0-ac3c-62b00382e9b2"
      },
      "execution_count": 21,
      "outputs": [
        {
          "output_type": "stream",
          "name": "stdout",
          "text": [
            "1\n"
          ]
        }
      ]
    },
    {
      "cell_type": "code",
      "source": [
        "# Write a code to check if the element \"banana\" is in the tuple ('apple', 'orange', 'banana').\n",
        "my_tuple = ('apple', 'orange', 'banana')\n",
        "if 'banana' in my_tuple:\n",
        "    print(\"banana is in the tuple\")\n",
        "else:\n",
        "    print(\"banana is not in the tuple\")\n"
      ],
      "metadata": {
        "colab": {
          "base_uri": "https://localhost:8080/"
        },
        "id": "1ixwJKubCVSq",
        "outputId": "4a55db51-0e32-4f50-8650-a3ee2fdf24e0"
      },
      "execution_count": 22,
      "outputs": [
        {
          "output_type": "stream",
          "name": "stdout",
          "text": [
            "banana is in the tuple\n"
          ]
        }
      ]
    },
    {
      "cell_type": "code",
      "source": [
        "#Write a code to create a set with the elements 1, 2, 3, 4, 5 and print it.\n",
        "my_set = {1, 2, 3, 4, 5}\n",
        "print(my_set)\n"
      ],
      "metadata": {
        "colab": {
          "base_uri": "https://localhost:8080/"
        },
        "id": "UlwczhHECgM_",
        "outputId": "8aa779fe-5ddb-4142-e3ca-37daea46e9ba"
      },
      "execution_count": 23,
      "outputs": [
        {
          "output_type": "stream",
          "name": "stdout",
          "text": [
            "{1, 2, 3, 4, 5}\n"
          ]
        }
      ]
    },
    {
      "cell_type": "code",
      "source": [
        "# Write a code to add the element 6 to the set {1, 2, 3, 4}.\n",
        "my_set = {1, 2, 3, 4}\n",
        "my_set.add(6)\n",
        "print(my_set)\n"
      ],
      "metadata": {
        "colab": {
          "base_uri": "https://localhost:8080/"
        },
        "id": "rNaCZ62hCxw8",
        "outputId": "3ec2a54f-6604-4512-a18f-f6a46a217ce2"
      },
      "execution_count": 24,
      "outputs": [
        {
          "output_type": "stream",
          "name": "stdout",
          "text": [
            "{1, 2, 3, 4, 6}\n"
          ]
        }
      ]
    }
  ]
}